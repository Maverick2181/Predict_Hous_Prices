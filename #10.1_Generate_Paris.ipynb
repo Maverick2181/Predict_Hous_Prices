{
  "cells": [
    {
      "cell_type": "code",
      "execution_count": 1,
      "metadata": {
        "id": "I5fMdNSITegs"
      },
      "outputs": [
        {
          "name": "stderr",
          "output_type": "stream",
          "text": [
            "/tmp/ipykernel_6174/49596040.py:2: DtypeWarning: Columns (18,23,24,26,28,31,33,41) have mixed types. Specify dtype option on import or set low_memory=False.\n",
            "  data_2022 = pd.read_csv('https://static.data.gouv.fr/resources/demandes-de-valeurs-foncieres/20221017-152027/valeursfoncieres-2022-s1.txt', sep=\"|\")\n",
            "/tmp/ipykernel_6174/49596040.py:3: DtypeWarning: Columns (18,23,24,26,28,30,31,33,41) have mixed types. Specify dtype option on import or set low_memory=False.\n",
            "  data_2021 = pd.read_csv('https://static.data.gouv.fr/resources/demandes-de-valeurs-foncieres/20221017-151704/valeursfoncieres-2021.txt', sep=\"|\")\n"
          ]
        },
        {
          "ename": "",
          "evalue": "",
          "output_type": "error",
          "traceback": [
            "\u001b[1;31mCanceled future for execute_request message before replies were done"
          ]
        },
        {
          "ename": "",
          "evalue": "",
          "output_type": "error",
          "traceback": [
            "\u001b[1;31mThe Kernel crashed while executing code in the the current cell or a previous cell. Please review the code in the cell(s) to identify a possible cause of the failure. Click <a href='https://aka.ms/vscodeJupyterKernelCrash'>here</a> for more info. View Jupyter <a href='command:jupyter.viewOutput'>log</a> for further details."
          ]
        }
      ],
      "source": [
        "import pandas as pd\n",
        "data_2022 = pd.read_csv('https://static.data.gouv.fr/resources/demandes-de-valeurs-foncieres/20221017-152027/valeursfoncieres-2022-s1.txt', sep=\"|\")\n",
        "data_2021 = pd.read_csv('https://static.data.gouv.fr/resources/demandes-de-valeurs-foncieres/20221017-151704/valeursfoncieres-2021.txt', sep=\"|\")\n",
        "data_2020 = pd.read_csv('https://static.data.gouv.fr/resources/demandes-de-valeurs-foncieres/20221017-151136/valeursfoncieres-2020.txt', sep=\"|\")\n"
      ]
    },
    {
      "cell_type": "code",
      "execution_count": null,
      "metadata": {
        "id": "RVB8C8f7TfZj"
      },
      "outputs": [],
      "source": [
        "import pandas as pd"
      ]
    },
    {
      "cell_type": "code",
      "execution_count": null,
      "metadata": {
        "colab": {
          "base_uri": "https://localhost:8080/"
        },
        "id": "IxPyld5hTjX7",
        "outputId": "a5ae9cda-6098-441b-8828-322a9a6128c2"
      },
      "outputs": [
        {
          "name": "stderr",
          "output_type": "stream",
          "text": [
            "/usr/local/lib/python3.8/dist-packages/IPython/core/interactiveshell.py:3326: DtypeWarning: Columns (18,23,24,26,28,31,33,41) have mixed types.Specify dtype option on import or set low_memory=False.\n",
            "  exec(code_obj, self.user_global_ns, self.user_ns)\n"
          ]
        }
      ],
      "source": [
        "data_2022 = pd.read_csv('https://static.data.gouv.fr/resources/demandes-de-valeurs-foncieres/20221017-152027/valeursfoncieres-2022-s1.txt', sep=\"|\")\n"
      ]
    },
    {
      "cell_type": "code",
      "execution_count": null,
      "metadata": {
        "colab": {
          "base_uri": "https://localhost:8080/"
        },
        "id": "H2DOngZDTqLn",
        "outputId": "67fa3359-7038-4330-d41b-6c3bd4246132"
      },
      "outputs": [
        {
          "name": "stderr",
          "output_type": "stream",
          "text": [
            "/usr/local/lib/python3.8/dist-packages/IPython/core/interactiveshell.py:3326: DtypeWarning: Columns (18,23,24,26,28,30,31,33,41) have mixed types.Specify dtype option on import or set low_memory=False.\n",
            "  exec(code_obj, self.user_global_ns, self.user_ns)\n"
          ]
        }
      ],
      "source": [
        "data_2021 = pd.read_csv('https://static.data.gouv.fr/resources/demandes-de-valeurs-foncieres/20221017-151704/valeursfoncieres-2021.txt', sep=\"|\")\n"
      ]
    },
    {
      "cell_type": "code",
      "execution_count": null,
      "metadata": {
        "id": "tWUwwkKST2nx"
      },
      "outputs": [],
      "source": [
        "data_2020 = pd.read_csv('https://static.data.gouv.fr/resources/demandes-de-valeurs-foncieres/20221017-151136/valeursfoncieres-2020.txt', sep=\"|\")\n"
      ]
    },
    {
      "cell_type": "code",
      "execution_count": null,
      "metadata": {
        "colab": {
          "base_uri": "https://localhost:8080/"
        },
        "id": "OrakpCTNUYY3",
        "outputId": "0c2837ea-9270-4230-e486-db629cdb03ae"
      },
      "outputs": [
        {
          "data": {
            "text/plain": [
              "(1429093, 21)"
            ]
          },
          "execution_count": 8,
          "metadata": {},
          "output_type": "execute_result"
        }
      ],
      "source": [
        "data_2022= data_2022.drop(['Code service sages','Reference document','1 Articles CGI','2 Articles CGI',\n",
        "                                      '3 Articles CGI','4 Articles CGI','5 Articles CGI','Identifiant local','No Volume','B/T/Q',\n",
        "                                      'Surface Carrez du 1er lot','2eme lot','Surface Carrez du 2eme lot','3eme lot',\n",
        "                                      'Surface Carrez du 3eme lot','4eme lot','Surface Carrez du 4eme lot','5eme lot',\n",
        "                                      'Surface Carrez du 5eme lot','Nature culture','Nature culture speciale','Surface terrain'], axis=1)\n",
        "data_2022.shape"
      ]
    },
    {
      "cell_type": "code",
      "execution_count": null,
      "metadata": {
        "colab": {
          "base_uri": "https://localhost:8080/"
        },
        "id": "hsnkESRZUl79",
        "outputId": "4c55c4f9-4e3e-45c2-9563-47a2bea3c6f2"
      },
      "outputs": [
        {
          "data": {
            "text/plain": [
              "(4375223, 21)"
            ]
          },
          "execution_count": 9,
          "metadata": {},
          "output_type": "execute_result"
        }
      ],
      "source": [
        "data_2021= data_2021.drop(['Code service sages','Reference document','1 Articles CGI','2 Articles CGI',\n",
        "                                      '3 Articles CGI','4 Articles CGI','5 Articles CGI','Identifiant local','No Volume','B/T/Q',\n",
        "                                      'Surface Carrez du 1er lot','2eme lot','Surface Carrez du 2eme lot','3eme lot',\n",
        "                                      'Surface Carrez du 3eme lot','4eme lot','Surface Carrez du 4eme lot','5eme lot',\n",
        "                                      'Surface Carrez du 5eme lot','Nature culture','Nature culture speciale','Surface terrain'], axis=1)\n",
        "data_2021.shape"
      ]
    },
    {
      "cell_type": "code",
      "execution_count": null,
      "metadata": {
        "colab": {
          "base_uri": "https://localhost:8080/"
        },
        "id": "UUHhOFWCUmUf",
        "outputId": "9c3c8255-7981-4fac-f892-aa97b259e6f4"
      },
      "outputs": [
        {
          "data": {
            "text/plain": [
              "(3509085, 21)"
            ]
          },
          "execution_count": 10,
          "metadata": {},
          "output_type": "execute_result"
        }
      ],
      "source": [
        "data_2020= data_2020.drop(['Code service sages','Reference document','1 Articles CGI','2 Articles CGI',\n",
        "                                      '3 Articles CGI','4 Articles CGI','5 Articles CGI','Identifiant local','No Volume','B/T/Q',\n",
        "                                      'Surface Carrez du 1er lot','2eme lot','Surface Carrez du 2eme lot','3eme lot',\n",
        "                                      'Surface Carrez du 3eme lot','4eme lot','Surface Carrez du 4eme lot','5eme lot',\n",
        "                                      'Surface Carrez du 5eme lot','Nature culture','Nature culture speciale','Surface terrain'], axis=1)\n",
        "data_2020.shape"
      ]
    },
    {
      "cell_type": "code",
      "execution_count": null,
      "metadata": {
        "id": "1wCccOG9UmmP"
      },
      "outputs": [],
      "source": [
        "paris_list_arrondissement = ['PARIS 01',\n",
        "'PARIS 02',\n",
        "'PARIS 03',\n",
        "'PARIS 04',\n",
        "'PARIS 05',\n",
        "'PARIS 06',\n",
        "'PARIS 07',\n",
        "'PARIS 08',\n",
        "'PARIS 09',\n",
        "'PARIS 10',\n",
        "'PARIS 11',\n",
        "'PARIS 12',\n",
        "'PARIS 13',\n",
        "'PARIS 14',\n",
        "'PARIS 15',\n",
        "'PARIS 16',\n",
        "'PARIS 17',\n",
        "'PARIS 18',\n",
        "'PARIS 19',\n",
        "'PARIS 20',\n",
        "]"
      ]
    },
    {
      "cell_type": "code",
      "execution_count": null,
      "metadata": {
        "colab": {
          "base_uri": "https://localhost:8080/"
        },
        "id": "rg-k_vhtU6SC",
        "outputId": "d596a9e0-805f-4d85-d12a-3463ea32f912"
      },
      "outputs": [
        {
          "name": "stdout",
          "output_type": "stream",
          "text": [
            "(49372, 21)\n",
            "(81324, 21)\n",
            "(54644, 21)\n",
            "(70279, 21)\n"
          ]
        }
      ],
      "source": [
        "data_2022 = data_2022[data_2022['Commune'].isin(paris_list_arrondissement)]\n",
        "print(data_2022.shape)\n",
        "data_2021 = data_2021[data_2021['Commune'].isin(paris_list_arrondissement)]\n",
        "print(data_2021.shape)\n",
        "data_2020 = data_2020[data_2020['Commune'].isin(paris_list_arrondissement)]\n",
        "print(data_2020.shape)\n"
      ]
    },
    {
      "cell_type": "code",
      "execution_count": null,
      "metadata": {
        "id": "McF0MfkVVom4"
      },
      "outputs": [],
      "source": [
        "data_2022 = data_2022.assign(Years = 2022)\n",
        "data_2021 = data_2021.assign(Years = 2021)\n",
        "data_2020 = data_2020.assign(Years = 2020)\n"
      ]
    },
    {
      "cell_type": "code",
      "execution_count": null,
      "metadata": {
        "colab": {
          "base_uri": "https://localhost:8080/",
          "height": 334
        },
        "id": "2ujKaRhRVUdo",
        "outputId": "6bce2ee2-ce97-4f41-fb94-e9538956950f"
      },
      "outputs": [
        {
          "data": {
            "text/html": [
              "\n",
              "  <div id=\"df-0f0c9078-125b-4512-bb2c-7ad1d9f78494\">\n",
              "    <div class=\"colab-df-container\">\n",
              "      <div>\n",
              "<style scoped>\n",
              "    .dataframe tbody tr th:only-of-type {\n",
              "        vertical-align: middle;\n",
              "    }\n",
              "\n",
              "    .dataframe tbody tr th {\n",
              "        vertical-align: top;\n",
              "    }\n",
              "\n",
              "    .dataframe thead th {\n",
              "        text-align: right;\n",
              "    }\n",
              "</style>\n",
              "<table border=\"1\" class=\"dataframe\">\n",
              "  <thead>\n",
              "    <tr style=\"text-align: right;\">\n",
              "      <th></th>\n",
              "      <th>No disposition</th>\n",
              "      <th>Date mutation</th>\n",
              "      <th>Nature mutation</th>\n",
              "      <th>Valeur fonciere</th>\n",
              "      <th>No voie</th>\n",
              "      <th>Type de voie</th>\n",
              "      <th>Code voie</th>\n",
              "      <th>Voie</th>\n",
              "      <th>Code postal</th>\n",
              "      <th>Commune</th>\n",
              "      <th>...</th>\n",
              "      <th>Prefixe de section</th>\n",
              "      <th>Section</th>\n",
              "      <th>No plan</th>\n",
              "      <th>1er lot</th>\n",
              "      <th>Nombre de lots</th>\n",
              "      <th>Code type local</th>\n",
              "      <th>Type local</th>\n",
              "      <th>Surface reelle bati</th>\n",
              "      <th>Nombre pieces principales</th>\n",
              "      <th>Years</th>\n",
              "    </tr>\n",
              "  </thead>\n",
              "  <tbody>\n",
              "    <tr>\n",
              "      <th>1379721</th>\n",
              "      <td>1</td>\n",
              "      <td>04/01/2022</td>\n",
              "      <td>Vente</td>\n",
              "      <td>580000,00</td>\n",
              "      <td>13.0</td>\n",
              "      <td>RUE</td>\n",
              "      <td>9002</td>\n",
              "      <td>DE SOFIA</td>\n",
              "      <td>75018.0</td>\n",
              "      <td>PARIS 18</td>\n",
              "      <td>...</td>\n",
              "      <td>NaN</td>\n",
              "      <td>BR</td>\n",
              "      <td>26</td>\n",
              "      <td>55.0</td>\n",
              "      <td>3</td>\n",
              "      <td>3.0</td>\n",
              "      <td>Dépendance</td>\n",
              "      <td>0.0</td>\n",
              "      <td>0.0</td>\n",
              "      <td>2022</td>\n",
              "    </tr>\n",
              "    <tr>\n",
              "      <th>1379722</th>\n",
              "      <td>1</td>\n",
              "      <td>04/01/2022</td>\n",
              "      <td>Vente</td>\n",
              "      <td>580000,00</td>\n",
              "      <td>13.0</td>\n",
              "      <td>RUE</td>\n",
              "      <td>9002</td>\n",
              "      <td>DE SOFIA</td>\n",
              "      <td>75018.0</td>\n",
              "      <td>PARIS 18</td>\n",
              "      <td>...</td>\n",
              "      <td>NaN</td>\n",
              "      <td>BR</td>\n",
              "      <td>26</td>\n",
              "      <td>25.0</td>\n",
              "      <td>2</td>\n",
              "      <td>2.0</td>\n",
              "      <td>Appartement</td>\n",
              "      <td>20.0</td>\n",
              "      <td>2.0</td>\n",
              "      <td>2022</td>\n",
              "    </tr>\n",
              "    <tr>\n",
              "      <th>1379723</th>\n",
              "      <td>1</td>\n",
              "      <td>04/01/2022</td>\n",
              "      <td>Vente</td>\n",
              "      <td>580000,00</td>\n",
              "      <td>13.0</td>\n",
              "      <td>RUE</td>\n",
              "      <td>9002</td>\n",
              "      <td>DE SOFIA</td>\n",
              "      <td>75018.0</td>\n",
              "      <td>PARIS 18</td>\n",
              "      <td>...</td>\n",
              "      <td>NaN</td>\n",
              "      <td>BR</td>\n",
              "      <td>26</td>\n",
              "      <td>55.0</td>\n",
              "      <td>3</td>\n",
              "      <td>2.0</td>\n",
              "      <td>Appartement</td>\n",
              "      <td>25.0</td>\n",
              "      <td>2.0</td>\n",
              "      <td>2022</td>\n",
              "    </tr>\n",
              "    <tr>\n",
              "      <th>1379724</th>\n",
              "      <td>1</td>\n",
              "      <td>04/01/2022</td>\n",
              "      <td>Vente</td>\n",
              "      <td>580000,00</td>\n",
              "      <td>13.0</td>\n",
              "      <td>RUE</td>\n",
              "      <td>9002</td>\n",
              "      <td>DE SOFIA</td>\n",
              "      <td>75018.0</td>\n",
              "      <td>PARIS 18</td>\n",
              "      <td>...</td>\n",
              "      <td>NaN</td>\n",
              "      <td>BR</td>\n",
              "      <td>26</td>\n",
              "      <td>25.0</td>\n",
              "      <td>2</td>\n",
              "      <td>3.0</td>\n",
              "      <td>Dépendance</td>\n",
              "      <td>0.0</td>\n",
              "      <td>0.0</td>\n",
              "      <td>2022</td>\n",
              "    </tr>\n",
              "    <tr>\n",
              "      <th>1379725</th>\n",
              "      <td>1</td>\n",
              "      <td>06/01/2022</td>\n",
              "      <td>Vente</td>\n",
              "      <td>605000,00</td>\n",
              "      <td>51.0</td>\n",
              "      <td>RUE</td>\n",
              "      <td>1880</td>\n",
              "      <td>CHARLOT</td>\n",
              "      <td>75003.0</td>\n",
              "      <td>PARIS 03</td>\n",
              "      <td>...</td>\n",
              "      <td>NaN</td>\n",
              "      <td>AH</td>\n",
              "      <td>72</td>\n",
              "      <td>7.0</td>\n",
              "      <td>1</td>\n",
              "      <td>2.0</td>\n",
              "      <td>Appartement</td>\n",
              "      <td>42.0</td>\n",
              "      <td>3.0</td>\n",
              "      <td>2022</td>\n",
              "    </tr>\n",
              "  </tbody>\n",
              "</table>\n",
              "<p>5 rows × 22 columns</p>\n",
              "</div>\n",
              "      <button class=\"colab-df-convert\" onclick=\"convertToInteractive('df-0f0c9078-125b-4512-bb2c-7ad1d9f78494')\"\n",
              "              title=\"Convert this dataframe to an interactive table.\"\n",
              "              style=\"display:none;\">\n",
              "        \n",
              "  <svg xmlns=\"http://www.w3.org/2000/svg\" height=\"24px\"viewBox=\"0 0 24 24\"\n",
              "       width=\"24px\">\n",
              "    <path d=\"M0 0h24v24H0V0z\" fill=\"none\"/>\n",
              "    <path d=\"M18.56 5.44l.94 2.06.94-2.06 2.06-.94-2.06-.94-.94-2.06-.94 2.06-2.06.94zm-11 1L8.5 8.5l.94-2.06 2.06-.94-2.06-.94L8.5 2.5l-.94 2.06-2.06.94zm10 10l.94 2.06.94-2.06 2.06-.94-2.06-.94-.94-2.06-.94 2.06-2.06.94z\"/><path d=\"M17.41 7.96l-1.37-1.37c-.4-.4-.92-.59-1.43-.59-.52 0-1.04.2-1.43.59L10.3 9.45l-7.72 7.72c-.78.78-.78 2.05 0 2.83L4 21.41c.39.39.9.59 1.41.59.51 0 1.02-.2 1.41-.59l7.78-7.78 2.81-2.81c.8-.78.8-2.07 0-2.86zM5.41 20L4 18.59l7.72-7.72 1.47 1.35L5.41 20z\"/>\n",
              "  </svg>\n",
              "      </button>\n",
              "      \n",
              "  <style>\n",
              "    .colab-df-container {\n",
              "      display:flex;\n",
              "      flex-wrap:wrap;\n",
              "      gap: 12px;\n",
              "    }\n",
              "\n",
              "    .colab-df-convert {\n",
              "      background-color: #E8F0FE;\n",
              "      border: none;\n",
              "      border-radius: 50%;\n",
              "      cursor: pointer;\n",
              "      display: none;\n",
              "      fill: #1967D2;\n",
              "      height: 32px;\n",
              "      padding: 0 0 0 0;\n",
              "      width: 32px;\n",
              "    }\n",
              "\n",
              "    .colab-df-convert:hover {\n",
              "      background-color: #E2EBFA;\n",
              "      box-shadow: 0px 1px 2px rgba(60, 64, 67, 0.3), 0px 1px 3px 1px rgba(60, 64, 67, 0.15);\n",
              "      fill: #174EA6;\n",
              "    }\n",
              "\n",
              "    [theme=dark] .colab-df-convert {\n",
              "      background-color: #3B4455;\n",
              "      fill: #D2E3FC;\n",
              "    }\n",
              "\n",
              "    [theme=dark] .colab-df-convert:hover {\n",
              "      background-color: #434B5C;\n",
              "      box-shadow: 0px 1px 3px 1px rgba(0, 0, 0, 0.15);\n",
              "      filter: drop-shadow(0px 1px 2px rgba(0, 0, 0, 0.3));\n",
              "      fill: #FFFFFF;\n",
              "    }\n",
              "  </style>\n",
              "\n",
              "      <script>\n",
              "        const buttonEl =\n",
              "          document.querySelector('#df-0f0c9078-125b-4512-bb2c-7ad1d9f78494 button.colab-df-convert');\n",
              "        buttonEl.style.display =\n",
              "          google.colab.kernel.accessAllowed ? 'block' : 'none';\n",
              "\n",
              "        async function convertToInteractive(key) {\n",
              "          const element = document.querySelector('#df-0f0c9078-125b-4512-bb2c-7ad1d9f78494');\n",
              "          const dataTable =\n",
              "            await google.colab.kernel.invokeFunction('convertToInteractive',\n",
              "                                                     [key], {});\n",
              "          if (!dataTable) return;\n",
              "\n",
              "          const docLinkHtml = 'Like what you see? Visit the ' +\n",
              "            '<a target=\"_blank\" href=https://colab.research.google.com/notebooks/data_table.ipynb>data table notebook</a>'\n",
              "            + ' to learn more about interactive tables.';\n",
              "          element.innerHTML = '';\n",
              "          dataTable['output_type'] = 'display_data';\n",
              "          await google.colab.output.renderOutput(dataTable, element);\n",
              "          const docLink = document.createElement('div');\n",
              "          docLink.innerHTML = docLinkHtml;\n",
              "          element.appendChild(docLink);\n",
              "        }\n",
              "      </script>\n",
              "    </div>\n",
              "  </div>\n",
              "  "
            ],
            "text/plain": [
              "         No disposition Date mutation Nature mutation Valeur fonciere  \\\n",
              "1379721               1    04/01/2022           Vente       580000,00   \n",
              "1379722               1    04/01/2022           Vente       580000,00   \n",
              "1379723               1    04/01/2022           Vente       580000,00   \n",
              "1379724               1    04/01/2022           Vente       580000,00   \n",
              "1379725               1    06/01/2022           Vente       605000,00   \n",
              "\n",
              "         No voie Type de voie Code voie      Voie  Code postal   Commune  ...  \\\n",
              "1379721     13.0          RUE      9002  DE SOFIA      75018.0  PARIS 18  ...   \n",
              "1379722     13.0          RUE      9002  DE SOFIA      75018.0  PARIS 18  ...   \n",
              "1379723     13.0          RUE      9002  DE SOFIA      75018.0  PARIS 18  ...   \n",
              "1379724     13.0          RUE      9002  DE SOFIA      75018.0  PARIS 18  ...   \n",
              "1379725     51.0          RUE      1880   CHARLOT      75003.0  PARIS 03  ...   \n",
              "\n",
              "        Prefixe de section  Section  No plan 1er lot  Nombre de lots  \\\n",
              "1379721                NaN       BR       26    55.0               3   \n",
              "1379722                NaN       BR       26    25.0               2   \n",
              "1379723                NaN       BR       26    55.0               3   \n",
              "1379724                NaN       BR       26    25.0               2   \n",
              "1379725                NaN       AH       72     7.0               1   \n",
              "\n",
              "        Code type local   Type local  Surface reelle bati  \\\n",
              "1379721             3.0   Dépendance                  0.0   \n",
              "1379722             2.0  Appartement                 20.0   \n",
              "1379723             2.0  Appartement                 25.0   \n",
              "1379724             3.0   Dépendance                  0.0   \n",
              "1379725             2.0  Appartement                 42.0   \n",
              "\n",
              "        Nombre pieces principales  Years  \n",
              "1379721                       0.0   2022  \n",
              "1379722                       2.0   2022  \n",
              "1379723                       2.0   2022  \n",
              "1379724                       0.0   2022  \n",
              "1379725                       3.0   2022  \n",
              "\n",
              "[5 rows x 22 columns]"
            ]
          },
          "execution_count": 15,
          "metadata": {},
          "output_type": "execute_result"
        }
      ],
      "source": [
        "L = [data_2022,data_2021,data_2020]\n",
        "df= pd.concat(L)\n",
        "df.head()"
      ]
    },
    {
      "cell_type": "code",
      "execution_count": null,
      "metadata": {
        "colab": {
          "base_uri": "https://localhost:8080/"
        },
        "id": "yD_24C2mWA8V",
        "outputId": "0ff6f034-01f7-455f-f73b-daa723b77c97"
      },
      "outputs": [
        {
          "data": {
            "text/plain": [
              "(255619, 22)"
            ]
          },
          "execution_count": 16,
          "metadata": {},
          "output_type": "execute_result"
        }
      ],
      "source": [
        "df.shape"
      ]
    },
    {
      "cell_type": "code",
      "execution_count": null,
      "metadata": {
        "id": "5kHht1pcWHYT"
      },
      "outputs": [],
      "source": [
        "df.to_csv('df_paris_dvf.csv', index=False, sep=\"|\")"
      ]
    },
    {
      "cell_type": "code",
      "execution_count": null,
      "metadata": {
        "colab": {
          "base_uri": "https://localhost:8080/",
          "height": 17
        },
        "id": "d3h_vEhnWKeg",
        "outputId": "b9a0558f-744a-4225-df06-f6e43bfb7434"
      },
      "outputs": [
        {
          "data": {
            "application/javascript": "\n    async function download(id, filename, size) {\n      if (!google.colab.kernel.accessAllowed) {\n        return;\n      }\n      const div = document.createElement('div');\n      const label = document.createElement('label');\n      label.textContent = `Downloading \"${filename}\": `;\n      div.appendChild(label);\n      const progress = document.createElement('progress');\n      progress.max = size;\n      div.appendChild(progress);\n      document.body.appendChild(div);\n\n      const buffers = [];\n      let downloaded = 0;\n\n      const channel = await google.colab.kernel.comms.open(id);\n      // Send a message to notify the kernel that we're ready.\n      channel.send({})\n\n      for await (const message of channel.messages) {\n        // Send a message to notify the kernel that we're ready.\n        channel.send({})\n        if (message.buffers) {\n          for (const buffer of message.buffers) {\n            buffers.push(buffer);\n            downloaded += buffer.byteLength;\n            progress.value = downloaded;\n          }\n        }\n      }\n      const blob = new Blob(buffers, {type: 'application/binary'});\n      const a = document.createElement('a');\n      a.href = window.URL.createObjectURL(blob);\n      a.download = filename;\n      div.appendChild(a);\n      a.click();\n      div.remove();\n    }\n  ",
            "text/plain": [
              "<IPython.core.display.Javascript object>"
            ]
          },
          "metadata": {},
          "output_type": "display_data"
        },
        {
          "data": {
            "application/javascript": "download(\"download_95ce3d52-0f47-49bb-a77e-aa51d2c6b95a\", \"df_paris_dvf.csv\", 31601688)",
            "text/plain": [
              "<IPython.core.display.Javascript object>"
            ]
          },
          "metadata": {},
          "output_type": "display_data"
        }
      ],
      "source": [
        "from google.colab import files\n",
        "files.download(\"df_paris_dvf.csv\")"
      ]
    }
  ],
  "metadata": {
    "colab": {
      "provenance": []
    },
    "kernelspec": {
      "display_name": "Python 3",
      "language": "python",
      "name": "python3"
    },
    "language_info": {
      "codemirror_mode": {
        "name": "ipython",
        "version": 3
      },
      "file_extension": ".py",
      "mimetype": "text/x-python",
      "name": "python",
      "nbconvert_exporter": "python",
      "pygments_lexer": "ipython3",
      "version": "3.9.2 (default, Feb 28 2021, 17:03:44) \n[GCC 10.2.1 20210110]"
    },
    "vscode": {
      "interpreter": {
        "hash": "916dbcbb3f70747c44a77c7bcd40155683ae19c65e1c03b4aa3499c5328201f1"
      }
    }
  },
  "nbformat": 4,
  "nbformat_minor": 0
}
